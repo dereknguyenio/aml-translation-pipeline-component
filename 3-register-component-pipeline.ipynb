{
  "cells": [
    {
      "attachments": {},
      "cell_type": "markdown",
      "metadata": {},
      "source": [
        "# Build pipeline with registered components\n",
        "\n",
        "**Requirements** - In order to benefit from this tutorial, you will need:\n",
        "- A basic understanding of Machine Learning\n",
        "- An Azure account with an active subscription - [Create an account for free](https://azure.microsoft.com/free/?WT.mc_id=A261C142F)\n",
        "- An Azure ML workspace with computer cluster - [Configure workspace](../../configuration.ipynb)\n",
        "- A python environment\n",
        "- Installed Azure Machine Learning Python SDK v2 - [install instructions](../../../README.md) - check the getting started section\n",
        "\n",
        "**Learning Objectives** - By the end of this tutorial, you should be able to:\n",
        "- Connect to your AML workspace from the Python SDK\n",
        "- Define `CommandComponent` using YAML, `command_component` decorator\n",
        "- Create components into workspace\n",
        "- Create `Pipeline` using registered components.\n",
        "\n",
        "**Motivations** - This notebook explains different method to create components via SDK then use these components to build pipeline."
      ]
    },
    {
      "attachments": {},
      "cell_type": "markdown",
      "metadata": {},
      "source": [
        "# 1. Connect to Azure Machine Learning Workspace\n",
        "\n",
        "The [workspace](https://docs.microsoft.com/en-us/azure/machine-learning/concept-workspace) is the top-level resource for Azure Machine Learning, providing a centralized place to work with all the artifacts you create when you use Azure Machine Learning. In this section we will connect to the workspace in which the job will be run.\n",
        "\n",
        "## 1.1 Import the required libraries"
      ]
    },
    {
      "cell_type": "code",
      "execution_count": 27,
      "metadata": {
        "gather": {
          "logged": 1689743312861
        }
      },
      "outputs": [],
      "source": [
        "# Import required libraries\n",
        "from azure.identity import DefaultAzureCredential, InteractiveBrowserCredential\n",
        "\n",
        "from azure.ai.ml import MLClient, Input, Output\n",
        "from azure.ai.ml.dsl import pipeline\n",
        "from azure.ai.ml import load_component"
      ]
    },
    {
      "attachments": {},
      "cell_type": "markdown",
      "metadata": {},
      "source": [
        "## 1.2 Configure credential\n",
        "\n",
        "We are using `DefaultAzureCredential` to get access to workspace. \n",
        "`DefaultAzureCredential` should be capable of handling most Azure SDK authentication scenarios. \n",
        "\n",
        "Reference for more available credentials if it does not work for you: [configure credential example](../../configuration.ipynb), [azure-identity reference doc](https://docs.microsoft.com/en-us/python/api/azure-identity/azure.identity?view=azure-python)."
      ]
    },
    {
      "cell_type": "code",
      "execution_count": 28,
      "metadata": {
        "gather": {
          "logged": 1689743316708
        }
      },
      "outputs": [],
      "source": [
        "try:\n",
        "    credential = DefaultAzureCredential()\n",
        "    # Check if given credential can get token successfully.\n",
        "    credential.get_token(\"https://management.azure.com/.default\")\n",
        "except Exception as ex:\n",
        "    # Fall back to InteractiveBrowserCredential in case DefaultAzureCredential not work\n",
        "    credential = InteractiveBrowserCredential()"
      ]
    },
    {
      "attachments": {},
      "cell_type": "markdown",
      "metadata": {},
      "source": [
        "## 1.3 Get a handle to the workspace\n",
        "\n",
        "We use config file to connect to a workspace. The Azure ML workspace should be configured with computer cluster. [Check this notebook for configure a workspace](../../configuration.ipynb)"
      ]
    },
    {
      "cell_type": "code",
      "execution_count": 29,
      "metadata": {
        "gather": {
          "logged": 1689743320983
        }
      },
      "outputs": [],
      "source": [
        "# Get a handle to workspace\n",
        "#ml_client = MLClient.from_config(credential=credential)\n",
        "\n",
        "subscription_id = \"0e7c68e3-ddc7-4979-bdc2-30a14addf264\"\n",
        "resource_group = \"openai-rg\"\n",
        "workspace = \"aml-workspace-dereknguyen\"\n",
        "\n",
        "ml_client = MLClient(credential, subscription_id, resource_group, workspace)\n",
        "# Retrieve an already attached Azure Machine Learning Compute.\n",
        "cluster_name = \"cpu-cluster\"\n",
        "#print(ml_client.compute.get(cluster_name))"
      ]
    },
    {
      "attachments": {},
      "cell_type": "markdown",
      "metadata": {},
      "source": [
        "# 2. Define and create components into workspace\n",
        "## 2.1 Load components definition from YAML and Register components into workspace"
      ]
    },
    {
      "attachments": {},
      "cell_type": "markdown",
      "metadata": {},
      "source": [
        "#### "
      ]
    },
    {
      "cell_type": "code",
      "execution_count": 30,
      "metadata": {
        "gather": {
          "logged": 1689743324992
        }
      },
      "outputs": [],
      "source": [
        "parent_dir = \".\""
      ]
    },
    {
      "cell_type": "code",
      "execution_count": 31,
      "metadata": {
        "gather": {
          "logged": 1689743532444
        }
      },
      "outputs": [
        {
          "name": "stdout",
          "output_type": "stream",
          "text": [
            "$schema: https://azuremlschemas.azureedge.net/latest/commandComponent.schema.json\n",
            "name: texttranslationcomponent\n",
            "version: 1.1.2\n",
            "display_name: Text Translation Component\n",
            "type: command\n",
            "inputs:\n",
            "  text:\n",
            "    type: string\n",
            "    optional: false\n",
            "    description: The text to translate\n",
            "  target_languages:\n",
            "    type: string\n",
            "    optional: false\n",
            "    description: Target languages separated by commas\n",
            "  key:\n",
            "    type: string\n",
            "    optional: false\n",
            "    description: Azure subscription key for translation\n",
            "  endpoint:\n",
            "    type: string\n",
            "    optional: false\n",
            "    description: Azure endpoint for translation\n",
            "  region:\n",
            "    type: string\n",
            "    optional: false\n",
            "    description: Azure region for translation\n",
            "outputs:\n",
            "  translated_text:\n",
            "    type: string\n",
            "    description: Translated text\n",
            "command: python 1-translation-component.py --text ${{inputs.text}} --target-languages\n",
            "  ${{inputs.target_languages}} --key ${{inputs.key}} --endpoint ${{inputs.endpoint}}\n",
            "  --region ${{inputs.region}} --output ${{outputs.translated_text}}\n",
            "environment: azureml:/subscriptions/0e7c68e3-ddc7-4979-bdc2-30a14addf264/resourceGroups/openai-rg/providers/Microsoft.MachineLearningServices/workspaces/aml-workspace-dereknguyen/environments/docker-image-for-pair-matching/versions/2\n",
            "code: /subscriptions/0e7c68e3-ddc7-4979-bdc2-30a14addf264/resourceGroups/openai-rg/providers/Microsoft.MachineLearningServices/workspaces/aml-workspace-dereknguyen/codes/2c90156b-278e-4bd9-bd3b-1a572d18b74f/versions/1\n",
            "resources:\n",
            "  instance_count: 1\n",
            "creation_context:\n",
            "  created_at: '2023-09-12T15:09:00.405648+00:00'\n",
            "  created_by: ebde4b6b-406c-4bf5-9425-03f43d8cc46a\n",
            "  created_by_type: Application\n",
            "  last_modified_at: '2023-09-12T15:09:00.504939+00:00'\n",
            "  last_modified_by: ebde4b6b-406c-4bf5-9425-03f43d8cc46a\n",
            "  last_modified_by_type: Application\n",
            "id: azureml:/subscriptions/0e7c68e3-ddc7-4979-bdc2-30a14addf264/resourceGroups/openai-rg/providers/Microsoft.MachineLearningServices/workspaces/aml-workspace-dereknguyen/components/texttranslationcomponent/versions/1.1.2\n",
            "is_deterministic: true\n",
            "\n"
          ]
        }
      ],
      "source": [
        "translation_component=load_component(source=parent_dir + \"/2-translation-component-spec.yml\")\n",
        "\n",
        "try:\n",
        "    translation_component=ml_client.components.get(name=\"texttranslationcomponent\", version=\"1.1.3\")\n",
        "except:\n",
        "    translation_component=ml_client.components.create_or_update(translation_component)\n",
        "\n",
        "\n",
        "print(translation_component)"
      ]
    },
    {
      "attachments": {},
      "cell_type": "markdown",
      "metadata": {},
      "source": [
        "##### Check if the enviroment is available and ge the enviroment id "
      ]
    },
    {
      "cell_type": "code",
      "execution_count": 9,
      "metadata": {
        "gather": {
          "logged": 1689743913628
        }
      },
      "outputs": [
        {
          "name": "stdout",
          "output_type": "stream",
          "text": [
            "conda_file:\n",
            "  channels:\n",
            "  - conda-forge\n",
            "  dependencies:\n",
            "  - python=3.8\n",
            "  - pip=21.2.4\n",
            "  - pip:\n",
            "    - azure-ai-translation-text==1.0.0b1\n",
            "    - jellyfish==0.9.0\n",
            "    - joblib==1.2.0\n",
            "    - numpy==1.23.4\n",
            "    - pandas==1.5.1\n",
            "    - python-dateutil==2.8.2\n",
            "    - pytz==2022.6\n",
            "    - recordlinkage==0.15\n",
            "    - scikit-learn==1.1.3\n",
            "    - scipy==1.9.3\n",
            "    - six==1.16.0\n",
            "    - threadpoolctl==3.1.0\n",
            "    - matplotlib~=3.5.0\n",
            "    - psutil~=5.8.0\n",
            "    - tqdm~=4.62.0\n",
            "    - ipykernel~=6.0\n",
            "    - azureml-core==1.47.0\n",
            "    - azureml-defaults==1.47.0\n",
            "    - azureml-mlflow==1.47.0\n",
            "    - azureml-telemetry==1.47.0\n",
            "    - debugpy~=1.6.3\n",
            "    - openai==0.26.4\n",
            "    - pandasql==0.7.3\n",
            "    - azure-ai-ml==1.1.0\n",
            "    - azure-ai-formrecognizer==3.2.0\n",
            "    - azure-ai-textanalytics==5.2.1\n",
            "    - sqlalchemy==1.4.40\n",
            "    - openpyxl==3.0.10\n",
            "    - pypdf2==3.0.1\n",
            "    - confluent-kafka==1.7.0\n",
            "    - pymsteams==0.2.2\n",
            "    - azure-search-documents==11.4.0b3\n",
            "    - pypdf==3.5.0\n",
            "  name: recordlinkage\n",
            "creation_context:\n",
            "  created_at: '2023-09-12T04:56:02.064445+00:00'\n",
            "  created_by: Derek Nguyen\n",
            "  created_by_type: User\n",
            "  last_modified_at: '2023-09-12T04:56:02.064445+00:00'\n",
            "  last_modified_by: Derek Nguyen\n",
            "  last_modified_by_type: User\n",
            "description: \"Environment created from a Docker image plus pair matching packages.\\r\\\n",
            "  \\n\\r\\n\"\n",
            "id: azureml:/subscriptions/0e7c68e3-ddc7-4979-bdc2-30a14addf264/resourceGroups/openai-rg/providers/Microsoft.MachineLearningServices/workspaces/aml-workspace-dereknguyen/environments/docker-image-for-pair-matching/versions/2\n",
            "image: mcr.microsoft.com/azureml/curated/sklearn-1.0-ubuntu20.04-py38-cpu:32\n",
            "name: docker-image-for-pair-matching\n",
            "os_type: linux\n",
            "tags: {}\n",
            "version: '2'\n",
            "\n"
          ]
        }
      ],
      "source": [
        "envs = ml_client.environments.get(name=\"docker-image-for-pair-matching\", version=\"2\")\n",
        "print(envs)"
      ]
    },
    {
      "attachments": {},
      "cell_type": "markdown",
      "metadata": {},
      "source": [
        "# 3. pipeline job\n",
        "## 3.1 Build pipeline"
      ]
    },
    {
      "attachments": {},
      "cell_type": "markdown",
      "metadata": {},
      "source": [
        "##### translation pipeline"
      ]
    },
    {
      "attachments": {},
      "cell_type": "markdown",
      "metadata": {},
      "source": [
        "### Create the Pipeline"
      ]
    },
    {
      "cell_type": "code",
      "execution_count": 17,
      "metadata": {
        "gather": {
          "logged": 1689744030725
        }
      },
      "outputs": [
        {
          "ename": "Exception",
          "evalue": "Value 'string' passed is not in set ['uri_file', 'uri_folder', 'custom_model', 'mlflow_model', 'mltable', 'triton_model']",
          "output_type": "error",
          "traceback": [
            "\u001b[1;31m---------------------------------------------------------------------------\u001b[0m",
            "\u001b[1;31mValidationError\u001b[0m                           Traceback (most recent call last)",
            "File \u001b[1;32mc:\\Python310\\lib\\site-packages\\azure\\ai\\ml\\operations\\_job_operations.py:628\u001b[0m, in \u001b[0;36mJobOperations.create_or_update\u001b[1;34m(self, job, description, compute, tags, experiment_name, skip_validation, **kwargs)\u001b[0m\n\u001b[0;32m    627\u001b[0m \u001b[39mif\u001b[39;00m \u001b[39mnot\u001b[39;00m skip_validation:\n\u001b[1;32m--> 628\u001b[0m     \u001b[39mself\u001b[39;49m\u001b[39m.\u001b[39;49m_validate(job, raise_on_failure\u001b[39m=\u001b[39;49m\u001b[39mTrue\u001b[39;49;00m)\n\u001b[0;32m    630\u001b[0m \u001b[39m# Create all dependent resources\u001b[39;00m\n",
            "File \u001b[1;32mc:\\Python310\\lib\\site-packages\\azure\\ai\\ml\\_telemetry\\activity.py:350\u001b[0m, in \u001b[0;36mmonitor_with_telemetry_mixin.<locals>.monitor.<locals>.wrapper\u001b[1;34m(*args, **kwargs)\u001b[0m\n\u001b[0;32m    349\u001b[0m \u001b[39mwith\u001b[39;00m log_activity(logger, activity_name \u001b[39mor\u001b[39;00m f\u001b[39m.\u001b[39m\u001b[39m__name__\u001b[39m, activity_type, dimensions) \u001b[39mas\u001b[39;00m activityLogger:\n\u001b[1;32m--> 350\u001b[0m     return_value \u001b[39m=\u001b[39m f(\u001b[39m*\u001b[39margs, \u001b[39m*\u001b[39m\u001b[39m*\u001b[39mkwargs)\n\u001b[0;32m    351\u001b[0m     \u001b[39mif\u001b[39;00m \u001b[39mnot\u001b[39;00m parameter_dimensions:\n\u001b[0;32m    352\u001b[0m         \u001b[39m# collect from return if no dimensions from parameter\u001b[39;00m\n",
            "File \u001b[1;32mc:\\Python310\\lib\\site-packages\\azure\\ai\\ml\\operations\\_job_operations.py:531\u001b[0m, in \u001b[0;36mJobOperations._validate\u001b[1;34m(self, job, raise_on_failure, **kwargs)\u001b[0m\n\u001b[0;32m    529\u001b[0m     \u001b[39mreturn\u001b[39;00m git_code_validation_result\u001b[39m.\u001b[39mtry_raise(error_target\u001b[39m=\u001b[39mErrorTarget\u001b[39m.\u001b[39mJOB, raise_error\u001b[39m=\u001b[39mraise_on_failure)\n\u001b[1;32m--> 531\u001b[0m validation_result \u001b[39m=\u001b[39m job\u001b[39m.\u001b[39;49m_validate(raise_error\u001b[39m=\u001b[39;49mraise_on_failure)\n\u001b[0;32m    532\u001b[0m validation_result\u001b[39m.\u001b[39mmerge_with(git_code_validation_result)\n",
            "File \u001b[1;32mc:\\Python310\\lib\\site-packages\\azure\\ai\\ml\\entities\\_validation.py:454\u001b[0m, in \u001b[0;36mSchemaValidatableMixin._validate\u001b[1;34m(self, raise_error)\u001b[0m\n\u001b[0;32m    446\u001b[0m \u001b[39m\u001b[39m\u001b[39m\"\"\"Validate the resource. If raise_error is True, raise ValidationError if validation fails and log warnings if\u001b[39;00m\n\u001b[0;32m    447\u001b[0m \u001b[39mapplicable; Else, return the validation result.\u001b[39;00m\n\u001b[0;32m    448\u001b[0m \n\u001b[1;32m   (...)\u001b[0m\n\u001b[0;32m    452\u001b[0m \u001b[39m:rtype: ValidationResult\u001b[39;00m\n\u001b[0;32m    453\u001b[0m \u001b[39m\"\"\"\u001b[39;00m\n\u001b[1;32m--> 454\u001b[0m result \u001b[39m=\u001b[39m \u001b[39mself\u001b[39;49m\u001b[39m.\u001b[39;49m__schema_validate()\n\u001b[0;32m    455\u001b[0m result\u001b[39m.\u001b[39mmerge_with(\u001b[39mself\u001b[39m\u001b[39m.\u001b[39m_customized_validate())\n",
            "File \u001b[1;32mc:\\Python310\\lib\\site-packages\\azure\\ai\\ml\\entities\\_validation.py:487\u001b[0m, in \u001b[0;36mSchemaValidatableMixin.__schema_validate\u001b[1;34m(self)\u001b[0m\n\u001b[0;32m    482\u001b[0m \u001b[39m\u001b[39m\u001b[39m\"\"\"Validate the resource with the schema.\u001b[39;00m\n\u001b[0;32m    483\u001b[0m \n\u001b[0;32m    484\u001b[0m \u001b[39m:return: The validation result\u001b[39;00m\n\u001b[0;32m    485\u001b[0m \u001b[39m:rtype: MutableValidationResult\u001b[39;00m\n\u001b[0;32m    486\u001b[0m \u001b[39m\"\"\"\u001b[39;00m\n\u001b[1;32m--> 487\u001b[0m data \u001b[39m=\u001b[39m \u001b[39mself\u001b[39;49m\u001b[39m.\u001b[39;49m_dump_for_validation()\n\u001b[0;32m    488\u001b[0m messages \u001b[39m=\u001b[39m \u001b[39mself\u001b[39m\u001b[39m.\u001b[39m_schema_for_validation\u001b[39m.\u001b[39mvalidate(data)\n",
            "File \u001b[1;32mc:\\Python310\\lib\\site-packages\\azure\\ai\\ml\\entities\\_validation.py:443\u001b[0m, in \u001b[0;36mSchemaValidatableMixin._dump_for_validation\u001b[1;34m(self)\u001b[0m\n\u001b[0;32m    438\u001b[0m \u001b[39m\u001b[39m\u001b[39m\"\"\"Convert the resource to a dictionary.\u001b[39;00m\n\u001b[0;32m    439\u001b[0m \n\u001b[0;32m    440\u001b[0m \u001b[39m:return: Converted dictionary\u001b[39;00m\n\u001b[0;32m    441\u001b[0m \u001b[39m:rtype: Dict\u001b[39;00m\n\u001b[0;32m    442\u001b[0m \u001b[39m\"\"\"\u001b[39;00m\n\u001b[1;32m--> 443\u001b[0m \u001b[39mreturn\u001b[39;00m convert_ordered_dict_to_dict(\u001b[39mself\u001b[39;49m\u001b[39m.\u001b[39;49m_schema_for_validation\u001b[39m.\u001b[39;49mdump(\u001b[39mself\u001b[39;49m))\n",
            "File \u001b[1;32mc:\\Python310\\lib\\site-packages\\marshmallow\\schema.py:549\u001b[0m, in \u001b[0;36mSchema.dump\u001b[1;34m(self, obj, many)\u001b[0m\n\u001b[0;32m    547\u001b[0m     processed_obj \u001b[39m=\u001b[39m obj\n\u001b[1;32m--> 549\u001b[0m result \u001b[39m=\u001b[39m \u001b[39mself\u001b[39;49m\u001b[39m.\u001b[39;49m_serialize(processed_obj, many\u001b[39m=\u001b[39;49mmany)\n\u001b[0;32m    551\u001b[0m \u001b[39mif\u001b[39;00m \u001b[39mself\u001b[39m\u001b[39m.\u001b[39m_has_processors(POST_DUMP):\n",
            "File \u001b[1;32mc:\\Python310\\lib\\site-packages\\marshmallow\\schema.py:517\u001b[0m, in \u001b[0;36mSchema._serialize\u001b[1;34m(self, obj, many)\u001b[0m\n\u001b[0;32m    516\u001b[0m \u001b[39mfor\u001b[39;00m attr_name, field_obj \u001b[39min\u001b[39;00m \u001b[39mself\u001b[39m\u001b[39m.\u001b[39mdump_fields\u001b[39m.\u001b[39mitems():\n\u001b[1;32m--> 517\u001b[0m     value \u001b[39m=\u001b[39m field_obj\u001b[39m.\u001b[39;49mserialize(attr_name, obj, accessor\u001b[39m=\u001b[39;49m\u001b[39mself\u001b[39;49m\u001b[39m.\u001b[39;49mget_attribute)\n\u001b[0;32m    518\u001b[0m     \u001b[39mif\u001b[39;00m value \u001b[39mis\u001b[39;00m missing:\n",
            "File \u001b[1;32mc:\\Python310\\lib\\site-packages\\marshmallow\\fields.py:340\u001b[0m, in \u001b[0;36mField.serialize\u001b[1;34m(self, attr, obj, accessor, **kwargs)\u001b[0m\n\u001b[0;32m    339\u001b[0m     value \u001b[39m=\u001b[39m \u001b[39mNone\u001b[39;00m\n\u001b[1;32m--> 340\u001b[0m \u001b[39mreturn\u001b[39;00m \u001b[39mself\u001b[39m\u001b[39m.\u001b[39m_serialize(value, attr, obj, \u001b[39m*\u001b[39m\u001b[39m*\u001b[39mkwargs)\n",
            "File \u001b[1;32mc:\\Python310\\lib\\site-packages\\marshmallow\\fields.py:1619\u001b[0m, in \u001b[0;36mMapping._serialize\u001b[1;34m(self, value, attr, obj, **kwargs)\u001b[0m\n\u001b[0;32m   1618\u001b[0m     \u001b[39mfor\u001b[39;00m k, v \u001b[39min\u001b[39;00m value\u001b[39m.\u001b[39mitems():\n\u001b[1;32m-> 1619\u001b[0m         result[keys[k]] \u001b[39m=\u001b[39m \u001b[39mself\u001b[39m\u001b[39m.\u001b[39mvalue_field\u001b[39m.\u001b[39m_serialize(v, \u001b[39mNone\u001b[39;00m, \u001b[39mNone\u001b[39;00m, \u001b[39m*\u001b[39m\u001b[39m*\u001b[39mkwargs)\n\u001b[0;32m   1621\u001b[0m \u001b[39mreturn\u001b[39;00m result\n",
            "File \u001b[1;32mc:\\Python310\\lib\\site-packages\\marshmallow\\fields.py:643\u001b[0m, in \u001b[0;36mNested._serialize\u001b[1;34m(self, nested_obj, attr, obj, **kwargs)\u001b[0m\n\u001b[0;32m    642\u001b[0m many \u001b[39m=\u001b[39m schema\u001b[39m.\u001b[39mmany \u001b[39mor\u001b[39;00m \u001b[39mself\u001b[39m\u001b[39m.\u001b[39mmany\n\u001b[1;32m--> 643\u001b[0m \u001b[39mreturn\u001b[39;00m schema\u001b[39m.\u001b[39;49mdump(nested_obj, many\u001b[39m=\u001b[39;49mmany)\n",
            "File \u001b[1;32mc:\\Python310\\lib\\site-packages\\marshmallow\\schema.py:549\u001b[0m, in \u001b[0;36mSchema.dump\u001b[1;34m(self, obj, many)\u001b[0m\n\u001b[0;32m    547\u001b[0m     processed_obj \u001b[39m=\u001b[39m obj\n\u001b[1;32m--> 549\u001b[0m result \u001b[39m=\u001b[39m \u001b[39mself\u001b[39;49m\u001b[39m.\u001b[39;49m_serialize(processed_obj, many\u001b[39m=\u001b[39;49mmany)\n\u001b[0;32m    551\u001b[0m \u001b[39mif\u001b[39;00m \u001b[39mself\u001b[39m\u001b[39m.\u001b[39m_has_processors(POST_DUMP):\n",
            "File \u001b[1;32mc:\\Python310\\lib\\site-packages\\marshmallow\\schema.py:517\u001b[0m, in \u001b[0;36mSchema._serialize\u001b[1;34m(self, obj, many)\u001b[0m\n\u001b[0;32m    516\u001b[0m \u001b[39mfor\u001b[39;00m attr_name, field_obj \u001b[39min\u001b[39;00m \u001b[39mself\u001b[39m\u001b[39m.\u001b[39mdump_fields\u001b[39m.\u001b[39mitems():\n\u001b[1;32m--> 517\u001b[0m     value \u001b[39m=\u001b[39m field_obj\u001b[39m.\u001b[39;49mserialize(attr_name, obj, accessor\u001b[39m=\u001b[39;49m\u001b[39mself\u001b[39;49m\u001b[39m.\u001b[39;49mget_attribute)\n\u001b[0;32m    518\u001b[0m     \u001b[39mif\u001b[39;00m value \u001b[39mis\u001b[39;00m missing:\n",
            "File \u001b[1;32mc:\\Python310\\lib\\site-packages\\marshmallow\\fields.py:340\u001b[0m, in \u001b[0;36mField.serialize\u001b[1;34m(self, attr, obj, accessor, **kwargs)\u001b[0m\n\u001b[0;32m    339\u001b[0m     value \u001b[39m=\u001b[39m \u001b[39mNone\u001b[39;00m\n\u001b[1;32m--> 340\u001b[0m \u001b[39mreturn\u001b[39;00m \u001b[39mself\u001b[39m\u001b[39m.\u001b[39m_serialize(value, attr, obj, \u001b[39m*\u001b[39m\u001b[39m*\u001b[39mkwargs)\n",
            "File \u001b[1;32mc:\\Python310\\lib\\site-packages\\azure\\ai\\ml\\_schema\\core\\fields.py:73\u001b[0m, in \u001b[0;36mStringTransformedEnum._serialize\u001b[1;34m(self, value, attr, obj, **kwargs)\u001b[0m\n\u001b[0;32m     72\u001b[0m     \u001b[39mreturn\u001b[39;00m value \u001b[39mif\u001b[39;00m \u001b[39mself\u001b[39m\u001b[39m.\u001b[39mpass_original \u001b[39melse\u001b[39;00m \u001b[39mself\u001b[39m\u001b[39m.\u001b[39mcasing_transform(value)\n\u001b[1;32m---> 73\u001b[0m \u001b[39mraise\u001b[39;00m ValidationError(\u001b[39mf\u001b[39m\u001b[39m\"\u001b[39m\u001b[39mValue \u001b[39m\u001b[39m{\u001b[39;00mvalue\u001b[39m!r}\u001b[39;00m\u001b[39m passed is not in set \u001b[39m\u001b[39m{\u001b[39;00m\u001b[39mself\u001b[39m\u001b[39m.\u001b[39mallowed_values\u001b[39m}\u001b[39;00m\u001b[39m\"\u001b[39m)\n",
            "\u001b[1;31mValidationError\u001b[0m: Value 'string' passed is not in set ['uri_file', 'uri_folder', 'custom_model', 'mlflow_model', 'mltable', 'triton_model']",
            "\nDuring handling of the above exception, another exception occurred:\n",
            "\u001b[1;31mException\u001b[0m                                 Traceback (most recent call last)",
            "\u001b[1;32mc:\\Users\\dereknguyen\\OneDrive - Microsoft\\Documents\\vscode\\msft-hackathon2023\\3-register-component-pipeline.ipynb Cell 17\u001b[0m line \u001b[0;36m6\n\u001b[0;32m     <a href='vscode-notebook-cell:/c%3A/Users/dereknguyen/OneDrive%20-%20Microsoft/Documents/vscode/msft-hackathon2023/3-register-component-pipeline.ipynb#X25sZmlsZQ%3D%3D?line=56'>57</a>\u001b[0m pipeline_job\u001b[39m.\u001b[39msettings\u001b[39m.\u001b[39mdefault_compute \u001b[39m=\u001b[39m \u001b[39m\"\u001b[39m\u001b[39mdereknguyen1\u001b[39m\u001b[39m\"\u001b[39m\n\u001b[0;32m     <a href='vscode-notebook-cell:/c%3A/Users/dereknguyen/OneDrive%20-%20Microsoft/Documents/vscode/msft-hackathon2023/3-register-component-pipeline.ipynb#X25sZmlsZQ%3D%3D?line=58'>59</a>\u001b[0m \u001b[39m# submit job to workspace\u001b[39;00m\n\u001b[1;32m---> <a href='vscode-notebook-cell:/c%3A/Users/dereknguyen/OneDrive%20-%20Microsoft/Documents/vscode/msft-hackathon2023/3-register-component-pipeline.ipynb#X25sZmlsZQ%3D%3D?line=59'>60</a>\u001b[0m pipeline_job \u001b[39m=\u001b[39m ml_client\u001b[39m.\u001b[39;49mjobs\u001b[39m.\u001b[39;49mcreate_or_update(\n\u001b[0;32m     <a href='vscode-notebook-cell:/c%3A/Users/dereknguyen/OneDrive%20-%20Microsoft/Documents/vscode/msft-hackathon2023/3-register-component-pipeline.ipynb#X25sZmlsZQ%3D%3D?line=60'>61</a>\u001b[0m     pipeline_job, experiment_name\u001b[39m=\u001b[39;49m\u001b[39m\"\u001b[39;49m\u001b[39mTextTranslationPipeline\u001b[39;49m\u001b[39m\"\u001b[39;49m\n\u001b[0;32m     <a href='vscode-notebook-cell:/c%3A/Users/dereknguyen/OneDrive%20-%20Microsoft/Documents/vscode/msft-hackathon2023/3-register-component-pipeline.ipynb#X25sZmlsZQ%3D%3D?line=61'>62</a>\u001b[0m )\n\u001b[0;32m     <a href='vscode-notebook-cell:/c%3A/Users/dereknguyen/OneDrive%20-%20Microsoft/Documents/vscode/msft-hackathon2023/3-register-component-pipeline.ipynb#X25sZmlsZQ%3D%3D?line=62'>63</a>\u001b[0m pipeline_job\n",
            "File \u001b[1;32mc:\\Python310\\lib\\site-packages\\azure\\core\\tracing\\decorator.py:78\u001b[0m, in \u001b[0;36mdistributed_trace.<locals>.decorator.<locals>.wrapper_use_tracer\u001b[1;34m(*args, **kwargs)\u001b[0m\n\u001b[0;32m     76\u001b[0m span_impl_type \u001b[39m=\u001b[39m settings\u001b[39m.\u001b[39mtracing_implementation()\n\u001b[0;32m     77\u001b[0m \u001b[39mif\u001b[39;00m span_impl_type \u001b[39mis\u001b[39;00m \u001b[39mNone\u001b[39;00m:\n\u001b[1;32m---> 78\u001b[0m     \u001b[39mreturn\u001b[39;00m func(\u001b[39m*\u001b[39margs, \u001b[39m*\u001b[39m\u001b[39m*\u001b[39mkwargs)\n\u001b[0;32m     80\u001b[0m \u001b[39m# Merge span is parameter is set, but only if no explicit parent are passed\u001b[39;00m\n\u001b[0;32m     81\u001b[0m \u001b[39mif\u001b[39;00m merge_span \u001b[39mand\u001b[39;00m \u001b[39mnot\u001b[39;00m passed_in_parent:\n",
            "File \u001b[1;32mc:\\Python310\\lib\\site-packages\\azure\\ai\\ml\\_telemetry\\activity.py:350\u001b[0m, in \u001b[0;36mmonitor_with_telemetry_mixin.<locals>.monitor.<locals>.wrapper\u001b[1;34m(*args, **kwargs)\u001b[0m\n\u001b[0;32m    348\u001b[0m dimensions \u001b[39m=\u001b[39m {\u001b[39m*\u001b[39m\u001b[39m*\u001b[39mparameter_dimensions, \u001b[39m*\u001b[39m\u001b[39m*\u001b[39m(custom_dimensions \u001b[39mor\u001b[39;00m {})}\n\u001b[0;32m    349\u001b[0m \u001b[39mwith\u001b[39;00m log_activity(logger, activity_name \u001b[39mor\u001b[39;00m f\u001b[39m.\u001b[39m\u001b[39m__name__\u001b[39m, activity_type, dimensions) \u001b[39mas\u001b[39;00m activityLogger:\n\u001b[1;32m--> 350\u001b[0m     return_value \u001b[39m=\u001b[39m f(\u001b[39m*\u001b[39margs, \u001b[39m*\u001b[39m\u001b[39m*\u001b[39mkwargs)\n\u001b[0;32m    351\u001b[0m     \u001b[39mif\u001b[39;00m \u001b[39mnot\u001b[39;00m parameter_dimensions:\n\u001b[0;32m    352\u001b[0m         \u001b[39m# collect from return if no dimensions from parameter\u001b[39;00m\n\u001b[0;32m    353\u001b[0m         activityLogger\u001b[39m.\u001b[39mactivity_info\u001b[39m.\u001b[39mupdate(_collect_from_return_value(return_value))\n",
            "File \u001b[1;32mc:\\Python310\\lib\\site-packages\\azure\\ai\\ml\\operations\\_job_operations.py:697\u001b[0m, in \u001b[0;36mJobOperations.create_or_update\u001b[1;34m(self, job, description, compute, tags, experiment_name, skip_validation, **kwargs)\u001b[0m\n\u001b[0;32m    694\u001b[0m \u001b[39mfrom\u001b[39;00m \u001b[39mmarshmallow\u001b[39;00m\u001b[39m.\u001b[39;00m\u001b[39mexceptions\u001b[39;00m \u001b[39mimport\u001b[39;00m ValidationError \u001b[39mas\u001b[39;00m SchemaValidationError\n\u001b[0;32m    696\u001b[0m \u001b[39mif\u001b[39;00m \u001b[39misinstance\u001b[39m(ex, (ValidationException, SchemaValidationError)):\n\u001b[1;32m--> 697\u001b[0m     log_and_raise_error(ex)\n\u001b[0;32m    698\u001b[0m \u001b[39melse\u001b[39;00m:\n\u001b[0;32m    699\u001b[0m     \u001b[39mraise\u001b[39;00m ex\n",
            "File \u001b[1;32mc:\\Python310\\lib\\site-packages\\azure\\ai\\ml\\_exception_helper.py:337\u001b[0m, in \u001b[0;36mlog_and_raise_error\u001b[1;34m(error, debug, yaml_operation)\u001b[0m\n\u001b[0;32m    334\u001b[0m \u001b[39melse\u001b[39;00m:\n\u001b[0;32m    335\u001b[0m     \u001b[39mraise\u001b[39;00m error\n\u001b[1;32m--> 337\u001b[0m \u001b[39mraise\u001b[39;00m \u001b[39mException\u001b[39;00m(formatted_error)\n",
            "\u001b[1;31mException\u001b[0m: Value 'string' passed is not in set ['uri_file', 'uri_folder', 'custom_model', 'mlflow_model', 'mltable', 'triton_model']"
          ]
        }
      ],
      "source": [
        "from azure.ai.ml.constants import AssetTypes\n",
        "\n",
        "# Construct pipeline\n",
        "# @pipeline()\n",
        "# def pipeline_translation(\n",
        "#     text: str,\n",
        "#     target_languages: str,\n",
        "#     key: str,\n",
        "#     endpoint: str,\n",
        "#     region: str\n",
        "# ) -> dict:\n",
        "\n",
        "@pipeline()\n",
        "def pipeline_translation(\n",
        "    text,\n",
        "    target_languages,\n",
        "    key,\n",
        "    endpoint,\n",
        "    region\n",
        "):\n",
        "    \n",
        "    \n",
        "    \"\"\"TextTanslationPipeline\"\"\"\n",
        "    # Call component obj as function: apply given inputs & parameters to create a node in pipeline\n",
        "    translation = translation_component(\n",
        "            text=text,\n",
        "            target_languages=target_languages,\n",
        "            key=key,\n",
        "            endpoint=endpoint,\n",
        "            region=region\n",
        "     )\n",
        "\n",
        "\n",
        "    # Return: pipeline outputs\n",
        "    return {\n",
        "        \"outputs\": translation.outputs.translated_text\n",
        "    }\n",
        "\n",
        "pipeline_job = pipeline_translation(\n",
        "    text= \"<>\",\n",
        "    target_languages= '<>',\n",
        "    key= '<>',\n",
        "    endpoint= '<>',\n",
        "    region= '<>'\n",
        ")\n",
        "\n",
        "# pipeline_job = pipeline_translation(\n",
        "#     text= \"hello world from Microsoft!\",\n",
        "#     target_languages= 'es,fr',\n",
        "#     key= '2dca5c799fae4bacb9d3ea41e514a0d7',\n",
        "#     endpoint= 'https://api.cognitive.microsofttranslator.com/',\n",
        "#     region= 'eastus'\n",
        "# )\n",
        "\n",
        "# set pipeline level compute\n",
        "#pipeline_job.settings.default_compute = \"ym-cluster-2\"\n",
        "pipeline_job.settings.default_compute = \"dereknguyen1\"\n",
        "\n",
        "# submit job to workspace\n",
        "pipeline_job = ml_client.jobs.create_or_update(\n",
        "    pipeline_job, experiment_name=\"TextTranslationPipeline\"\n",
        ")\n",
        "pipeline_job"
      ]
    },
    {
      "cell_type": "code",
      "execution_count": 26,
      "metadata": {},
      "outputs": [
        {
          "ename": "Exception",
          "evalue": "Value 'string' passed is not in set ['uri_file', 'uri_folder', 'custom_model', 'mlflow_model', 'mltable', 'triton_model']",
          "output_type": "error",
          "traceback": [
            "\u001b[1;31m---------------------------------------------------------------------------\u001b[0m",
            "\u001b[1;31mValidationError\u001b[0m                           Traceback (most recent call last)",
            "File \u001b[1;32mc:\\Python310\\lib\\site-packages\\azure\\ai\\ml\\operations\\_job_operations.py:628\u001b[0m, in \u001b[0;36mJobOperations.create_or_update\u001b[1;34m(self, job, description, compute, tags, experiment_name, skip_validation, **kwargs)\u001b[0m\n\u001b[0;32m    627\u001b[0m \u001b[39mif\u001b[39;00m \u001b[39mnot\u001b[39;00m skip_validation:\n\u001b[1;32m--> 628\u001b[0m     \u001b[39mself\u001b[39;49m\u001b[39m.\u001b[39;49m_validate(job, raise_on_failure\u001b[39m=\u001b[39;49m\u001b[39mTrue\u001b[39;49;00m)\n\u001b[0;32m    630\u001b[0m \u001b[39m# Create all dependent resources\u001b[39;00m\n",
            "File \u001b[1;32mc:\\Python310\\lib\\site-packages\\azure\\ai\\ml\\_telemetry\\activity.py:350\u001b[0m, in \u001b[0;36mmonitor_with_telemetry_mixin.<locals>.monitor.<locals>.wrapper\u001b[1;34m(*args, **kwargs)\u001b[0m\n\u001b[0;32m    349\u001b[0m \u001b[39mwith\u001b[39;00m log_activity(logger, activity_name \u001b[39mor\u001b[39;00m f\u001b[39m.\u001b[39m\u001b[39m__name__\u001b[39m, activity_type, dimensions) \u001b[39mas\u001b[39;00m activityLogger:\n\u001b[1;32m--> 350\u001b[0m     return_value \u001b[39m=\u001b[39m f(\u001b[39m*\u001b[39margs, \u001b[39m*\u001b[39m\u001b[39m*\u001b[39mkwargs)\n\u001b[0;32m    351\u001b[0m     \u001b[39mif\u001b[39;00m \u001b[39mnot\u001b[39;00m parameter_dimensions:\n\u001b[0;32m    352\u001b[0m         \u001b[39m# collect from return if no dimensions from parameter\u001b[39;00m\n",
            "File \u001b[1;32mc:\\Python310\\lib\\site-packages\\azure\\ai\\ml\\operations\\_job_operations.py:531\u001b[0m, in \u001b[0;36mJobOperations._validate\u001b[1;34m(self, job, raise_on_failure, **kwargs)\u001b[0m\n\u001b[0;32m    529\u001b[0m     \u001b[39mreturn\u001b[39;00m git_code_validation_result\u001b[39m.\u001b[39mtry_raise(error_target\u001b[39m=\u001b[39mErrorTarget\u001b[39m.\u001b[39mJOB, raise_error\u001b[39m=\u001b[39mraise_on_failure)\n\u001b[1;32m--> 531\u001b[0m validation_result \u001b[39m=\u001b[39m job\u001b[39m.\u001b[39;49m_validate(raise_error\u001b[39m=\u001b[39;49mraise_on_failure)\n\u001b[0;32m    532\u001b[0m validation_result\u001b[39m.\u001b[39mmerge_with(git_code_validation_result)\n",
            "File \u001b[1;32mc:\\Python310\\lib\\site-packages\\azure\\ai\\ml\\entities\\_validation.py:454\u001b[0m, in \u001b[0;36mSchemaValidatableMixin._validate\u001b[1;34m(self, raise_error)\u001b[0m\n\u001b[0;32m    446\u001b[0m \u001b[39m\u001b[39m\u001b[39m\"\"\"Validate the resource. If raise_error is True, raise ValidationError if validation fails and log warnings if\u001b[39;00m\n\u001b[0;32m    447\u001b[0m \u001b[39mapplicable; Else, return the validation result.\u001b[39;00m\n\u001b[0;32m    448\u001b[0m \n\u001b[1;32m   (...)\u001b[0m\n\u001b[0;32m    452\u001b[0m \u001b[39m:rtype: ValidationResult\u001b[39;00m\n\u001b[0;32m    453\u001b[0m \u001b[39m\"\"\"\u001b[39;00m\n\u001b[1;32m--> 454\u001b[0m result \u001b[39m=\u001b[39m \u001b[39mself\u001b[39;49m\u001b[39m.\u001b[39;49m__schema_validate()\n\u001b[0;32m    455\u001b[0m result\u001b[39m.\u001b[39mmerge_with(\u001b[39mself\u001b[39m\u001b[39m.\u001b[39m_customized_validate())\n",
            "File \u001b[1;32mc:\\Python310\\lib\\site-packages\\azure\\ai\\ml\\entities\\_validation.py:487\u001b[0m, in \u001b[0;36mSchemaValidatableMixin.__schema_validate\u001b[1;34m(self)\u001b[0m\n\u001b[0;32m    482\u001b[0m \u001b[39m\u001b[39m\u001b[39m\"\"\"Validate the resource with the schema.\u001b[39;00m\n\u001b[0;32m    483\u001b[0m \n\u001b[0;32m    484\u001b[0m \u001b[39m:return: The validation result\u001b[39;00m\n\u001b[0;32m    485\u001b[0m \u001b[39m:rtype: MutableValidationResult\u001b[39;00m\n\u001b[0;32m    486\u001b[0m \u001b[39m\"\"\"\u001b[39;00m\n\u001b[1;32m--> 487\u001b[0m data \u001b[39m=\u001b[39m \u001b[39mself\u001b[39;49m\u001b[39m.\u001b[39;49m_dump_for_validation()\n\u001b[0;32m    488\u001b[0m messages \u001b[39m=\u001b[39m \u001b[39mself\u001b[39m\u001b[39m.\u001b[39m_schema_for_validation\u001b[39m.\u001b[39mvalidate(data)\n",
            "File \u001b[1;32mc:\\Python310\\lib\\site-packages\\azure\\ai\\ml\\entities\\_validation.py:443\u001b[0m, in \u001b[0;36mSchemaValidatableMixin._dump_for_validation\u001b[1;34m(self)\u001b[0m\n\u001b[0;32m    438\u001b[0m \u001b[39m\u001b[39m\u001b[39m\"\"\"Convert the resource to a dictionary.\u001b[39;00m\n\u001b[0;32m    439\u001b[0m \n\u001b[0;32m    440\u001b[0m \u001b[39m:return: Converted dictionary\u001b[39;00m\n\u001b[0;32m    441\u001b[0m \u001b[39m:rtype: Dict\u001b[39;00m\n\u001b[0;32m    442\u001b[0m \u001b[39m\"\"\"\u001b[39;00m\n\u001b[1;32m--> 443\u001b[0m \u001b[39mreturn\u001b[39;00m convert_ordered_dict_to_dict(\u001b[39mself\u001b[39;49m\u001b[39m.\u001b[39;49m_schema_for_validation\u001b[39m.\u001b[39;49mdump(\u001b[39mself\u001b[39;49m))\n",
            "File \u001b[1;32mc:\\Python310\\lib\\site-packages\\marshmallow\\schema.py:549\u001b[0m, in \u001b[0;36mSchema.dump\u001b[1;34m(self, obj, many)\u001b[0m\n\u001b[0;32m    547\u001b[0m     processed_obj \u001b[39m=\u001b[39m obj\n\u001b[1;32m--> 549\u001b[0m result \u001b[39m=\u001b[39m \u001b[39mself\u001b[39;49m\u001b[39m.\u001b[39;49m_serialize(processed_obj, many\u001b[39m=\u001b[39;49mmany)\n\u001b[0;32m    551\u001b[0m \u001b[39mif\u001b[39;00m \u001b[39mself\u001b[39m\u001b[39m.\u001b[39m_has_processors(POST_DUMP):\n",
            "File \u001b[1;32mc:\\Python310\\lib\\site-packages\\marshmallow\\schema.py:517\u001b[0m, in \u001b[0;36mSchema._serialize\u001b[1;34m(self, obj, many)\u001b[0m\n\u001b[0;32m    516\u001b[0m \u001b[39mfor\u001b[39;00m attr_name, field_obj \u001b[39min\u001b[39;00m \u001b[39mself\u001b[39m\u001b[39m.\u001b[39mdump_fields\u001b[39m.\u001b[39mitems():\n\u001b[1;32m--> 517\u001b[0m     value \u001b[39m=\u001b[39m field_obj\u001b[39m.\u001b[39;49mserialize(attr_name, obj, accessor\u001b[39m=\u001b[39;49m\u001b[39mself\u001b[39;49m\u001b[39m.\u001b[39;49mget_attribute)\n\u001b[0;32m    518\u001b[0m     \u001b[39mif\u001b[39;00m value \u001b[39mis\u001b[39;00m missing:\n",
            "File \u001b[1;32mc:\\Python310\\lib\\site-packages\\marshmallow\\fields.py:340\u001b[0m, in \u001b[0;36mField.serialize\u001b[1;34m(self, attr, obj, accessor, **kwargs)\u001b[0m\n\u001b[0;32m    339\u001b[0m     value \u001b[39m=\u001b[39m \u001b[39mNone\u001b[39;00m\n\u001b[1;32m--> 340\u001b[0m \u001b[39mreturn\u001b[39;00m \u001b[39mself\u001b[39m\u001b[39m.\u001b[39m_serialize(value, attr, obj, \u001b[39m*\u001b[39m\u001b[39m*\u001b[39mkwargs)\n",
            "File \u001b[1;32mc:\\Python310\\lib\\site-packages\\marshmallow\\fields.py:1619\u001b[0m, in \u001b[0;36mMapping._serialize\u001b[1;34m(self, value, attr, obj, **kwargs)\u001b[0m\n\u001b[0;32m   1618\u001b[0m     \u001b[39mfor\u001b[39;00m k, v \u001b[39min\u001b[39;00m value\u001b[39m.\u001b[39mitems():\n\u001b[1;32m-> 1619\u001b[0m         result[keys[k]] \u001b[39m=\u001b[39m \u001b[39mself\u001b[39m\u001b[39m.\u001b[39mvalue_field\u001b[39m.\u001b[39m_serialize(v, \u001b[39mNone\u001b[39;00m, \u001b[39mNone\u001b[39;00m, \u001b[39m*\u001b[39m\u001b[39m*\u001b[39mkwargs)\n\u001b[0;32m   1621\u001b[0m \u001b[39mreturn\u001b[39;00m result\n",
            "File \u001b[1;32mc:\\Python310\\lib\\site-packages\\marshmallow\\fields.py:643\u001b[0m, in \u001b[0;36mNested._serialize\u001b[1;34m(self, nested_obj, attr, obj, **kwargs)\u001b[0m\n\u001b[0;32m    642\u001b[0m many \u001b[39m=\u001b[39m schema\u001b[39m.\u001b[39mmany \u001b[39mor\u001b[39;00m \u001b[39mself\u001b[39m\u001b[39m.\u001b[39mmany\n\u001b[1;32m--> 643\u001b[0m \u001b[39mreturn\u001b[39;00m schema\u001b[39m.\u001b[39;49mdump(nested_obj, many\u001b[39m=\u001b[39;49mmany)\n",
            "File \u001b[1;32mc:\\Python310\\lib\\site-packages\\marshmallow\\schema.py:549\u001b[0m, in \u001b[0;36mSchema.dump\u001b[1;34m(self, obj, many)\u001b[0m\n\u001b[0;32m    547\u001b[0m     processed_obj \u001b[39m=\u001b[39m obj\n\u001b[1;32m--> 549\u001b[0m result \u001b[39m=\u001b[39m \u001b[39mself\u001b[39;49m\u001b[39m.\u001b[39;49m_serialize(processed_obj, many\u001b[39m=\u001b[39;49mmany)\n\u001b[0;32m    551\u001b[0m \u001b[39mif\u001b[39;00m \u001b[39mself\u001b[39m\u001b[39m.\u001b[39m_has_processors(POST_DUMP):\n",
            "File \u001b[1;32mc:\\Python310\\lib\\site-packages\\marshmallow\\schema.py:517\u001b[0m, in \u001b[0;36mSchema._serialize\u001b[1;34m(self, obj, many)\u001b[0m\n\u001b[0;32m    516\u001b[0m \u001b[39mfor\u001b[39;00m attr_name, field_obj \u001b[39min\u001b[39;00m \u001b[39mself\u001b[39m\u001b[39m.\u001b[39mdump_fields\u001b[39m.\u001b[39mitems():\n\u001b[1;32m--> 517\u001b[0m     value \u001b[39m=\u001b[39m field_obj\u001b[39m.\u001b[39;49mserialize(attr_name, obj, accessor\u001b[39m=\u001b[39;49m\u001b[39mself\u001b[39;49m\u001b[39m.\u001b[39;49mget_attribute)\n\u001b[0;32m    518\u001b[0m     \u001b[39mif\u001b[39;00m value \u001b[39mis\u001b[39;00m missing:\n",
            "File \u001b[1;32mc:\\Python310\\lib\\site-packages\\marshmallow\\fields.py:340\u001b[0m, in \u001b[0;36mField.serialize\u001b[1;34m(self, attr, obj, accessor, **kwargs)\u001b[0m\n\u001b[0;32m    339\u001b[0m     value \u001b[39m=\u001b[39m \u001b[39mNone\u001b[39;00m\n\u001b[1;32m--> 340\u001b[0m \u001b[39mreturn\u001b[39;00m \u001b[39mself\u001b[39m\u001b[39m.\u001b[39m_serialize(value, attr, obj, \u001b[39m*\u001b[39m\u001b[39m*\u001b[39mkwargs)\n",
            "File \u001b[1;32mc:\\Python310\\lib\\site-packages\\azure\\ai\\ml\\_schema\\core\\fields.py:73\u001b[0m, in \u001b[0;36mStringTransformedEnum._serialize\u001b[1;34m(self, value, attr, obj, **kwargs)\u001b[0m\n\u001b[0;32m     72\u001b[0m     \u001b[39mreturn\u001b[39;00m value \u001b[39mif\u001b[39;00m \u001b[39mself\u001b[39m\u001b[39m.\u001b[39mpass_original \u001b[39melse\u001b[39;00m \u001b[39mself\u001b[39m\u001b[39m.\u001b[39mcasing_transform(value)\n\u001b[1;32m---> 73\u001b[0m \u001b[39mraise\u001b[39;00m ValidationError(\u001b[39mf\u001b[39m\u001b[39m\"\u001b[39m\u001b[39mValue \u001b[39m\u001b[39m{\u001b[39;00mvalue\u001b[39m!r}\u001b[39;00m\u001b[39m passed is not in set \u001b[39m\u001b[39m{\u001b[39;00m\u001b[39mself\u001b[39m\u001b[39m.\u001b[39mallowed_values\u001b[39m}\u001b[39;00m\u001b[39m\"\u001b[39m)\n",
            "\u001b[1;31mValidationError\u001b[0m: Value 'string' passed is not in set ['uri_file', 'uri_folder', 'custom_model', 'mlflow_model', 'mltable', 'triton_model']",
            "\nDuring handling of the above exception, another exception occurred:\n",
            "\u001b[1;31mException\u001b[0m                                 Traceback (most recent call last)",
            "\u001b[1;32mc:\\Users\\dereknguyen\\OneDrive - Microsoft\\Documents\\vscode\\msft-hackathon2023\\3-register-component-pipeline.ipynb Cell 18\u001b[0m line \u001b[0;36m4\n\u001b[0;32m     <a href='vscode-notebook-cell:/c%3A/Users/dereknguyen/OneDrive%20-%20Microsoft/Documents/vscode/msft-hackathon2023/3-register-component-pipeline.ipynb#X31sZmlsZQ%3D%3D?line=37'>38</a>\u001b[0m pipeline_job\u001b[39m.\u001b[39msettings\u001b[39m.\u001b[39mdefault_compute \u001b[39m=\u001b[39m \u001b[39m\"\u001b[39m\u001b[39mdereknguyen1\u001b[39m\u001b[39m\"\u001b[39m\n\u001b[0;32m     <a href='vscode-notebook-cell:/c%3A/Users/dereknguyen/OneDrive%20-%20Microsoft/Documents/vscode/msft-hackathon2023/3-register-component-pipeline.ipynb#X31sZmlsZQ%3D%3D?line=39'>40</a>\u001b[0m \u001b[39m# Assuming ml_client and experiment_name are already defined\u001b[39;00m\n\u001b[1;32m---> <a href='vscode-notebook-cell:/c%3A/Users/dereknguyen/OneDrive%20-%20Microsoft/Documents/vscode/msft-hackathon2023/3-register-component-pipeline.ipynb#X31sZmlsZQ%3D%3D?line=40'>41</a>\u001b[0m pipeline_job \u001b[39m=\u001b[39m ml_client\u001b[39m.\u001b[39;49mjobs\u001b[39m.\u001b[39;49mcreate_or_update(\n\u001b[0;32m     <a href='vscode-notebook-cell:/c%3A/Users/dereknguyen/OneDrive%20-%20Microsoft/Documents/vscode/msft-hackathon2023/3-register-component-pipeline.ipynb#X31sZmlsZQ%3D%3D?line=41'>42</a>\u001b[0m     pipeline_job, experiment_name\u001b[39m=\u001b[39;49m\u001b[39m\"\u001b[39;49m\u001b[39mTextTranslationPipeline\u001b[39;49m\u001b[39m\"\u001b[39;49m\n\u001b[0;32m     <a href='vscode-notebook-cell:/c%3A/Users/dereknguyen/OneDrive%20-%20Microsoft/Documents/vscode/msft-hackathon2023/3-register-component-pipeline.ipynb#X31sZmlsZQ%3D%3D?line=42'>43</a>\u001b[0m )\n\u001b[0;32m     <a href='vscode-notebook-cell:/c%3A/Users/dereknguyen/OneDrive%20-%20Microsoft/Documents/vscode/msft-hackathon2023/3-register-component-pipeline.ipynb#X31sZmlsZQ%3D%3D?line=44'>45</a>\u001b[0m \u001b[39mprint\u001b[39m(pipeline_job)\n",
            "File \u001b[1;32mc:\\Python310\\lib\\site-packages\\azure\\core\\tracing\\decorator.py:78\u001b[0m, in \u001b[0;36mdistributed_trace.<locals>.decorator.<locals>.wrapper_use_tracer\u001b[1;34m(*args, **kwargs)\u001b[0m\n\u001b[0;32m     76\u001b[0m span_impl_type \u001b[39m=\u001b[39m settings\u001b[39m.\u001b[39mtracing_implementation()\n\u001b[0;32m     77\u001b[0m \u001b[39mif\u001b[39;00m span_impl_type \u001b[39mis\u001b[39;00m \u001b[39mNone\u001b[39;00m:\n\u001b[1;32m---> 78\u001b[0m     \u001b[39mreturn\u001b[39;00m func(\u001b[39m*\u001b[39margs, \u001b[39m*\u001b[39m\u001b[39m*\u001b[39mkwargs)\n\u001b[0;32m     80\u001b[0m \u001b[39m# Merge span is parameter is set, but only if no explicit parent are passed\u001b[39;00m\n\u001b[0;32m     81\u001b[0m \u001b[39mif\u001b[39;00m merge_span \u001b[39mand\u001b[39;00m \u001b[39mnot\u001b[39;00m passed_in_parent:\n",
            "File \u001b[1;32mc:\\Python310\\lib\\site-packages\\azure\\ai\\ml\\_telemetry\\activity.py:350\u001b[0m, in \u001b[0;36mmonitor_with_telemetry_mixin.<locals>.monitor.<locals>.wrapper\u001b[1;34m(*args, **kwargs)\u001b[0m\n\u001b[0;32m    348\u001b[0m dimensions \u001b[39m=\u001b[39m {\u001b[39m*\u001b[39m\u001b[39m*\u001b[39mparameter_dimensions, \u001b[39m*\u001b[39m\u001b[39m*\u001b[39m(custom_dimensions \u001b[39mor\u001b[39;00m {})}\n\u001b[0;32m    349\u001b[0m \u001b[39mwith\u001b[39;00m log_activity(logger, activity_name \u001b[39mor\u001b[39;00m f\u001b[39m.\u001b[39m\u001b[39m__name__\u001b[39m, activity_type, dimensions) \u001b[39mas\u001b[39;00m activityLogger:\n\u001b[1;32m--> 350\u001b[0m     return_value \u001b[39m=\u001b[39m f(\u001b[39m*\u001b[39margs, \u001b[39m*\u001b[39m\u001b[39m*\u001b[39mkwargs)\n\u001b[0;32m    351\u001b[0m     \u001b[39mif\u001b[39;00m \u001b[39mnot\u001b[39;00m parameter_dimensions:\n\u001b[0;32m    352\u001b[0m         \u001b[39m# collect from return if no dimensions from parameter\u001b[39;00m\n\u001b[0;32m    353\u001b[0m         activityLogger\u001b[39m.\u001b[39mactivity_info\u001b[39m.\u001b[39mupdate(_collect_from_return_value(return_value))\n",
            "File \u001b[1;32mc:\\Python310\\lib\\site-packages\\azure\\ai\\ml\\operations\\_job_operations.py:697\u001b[0m, in \u001b[0;36mJobOperations.create_or_update\u001b[1;34m(self, job, description, compute, tags, experiment_name, skip_validation, **kwargs)\u001b[0m\n\u001b[0;32m    694\u001b[0m \u001b[39mfrom\u001b[39;00m \u001b[39mmarshmallow\u001b[39;00m\u001b[39m.\u001b[39;00m\u001b[39mexceptions\u001b[39;00m \u001b[39mimport\u001b[39;00m ValidationError \u001b[39mas\u001b[39;00m SchemaValidationError\n\u001b[0;32m    696\u001b[0m \u001b[39mif\u001b[39;00m \u001b[39misinstance\u001b[39m(ex, (ValidationException, SchemaValidationError)):\n\u001b[1;32m--> 697\u001b[0m     log_and_raise_error(ex)\n\u001b[0;32m    698\u001b[0m \u001b[39melse\u001b[39;00m:\n\u001b[0;32m    699\u001b[0m     \u001b[39mraise\u001b[39;00m ex\n",
            "File \u001b[1;32mc:\\Python310\\lib\\site-packages\\azure\\ai\\ml\\_exception_helper.py:337\u001b[0m, in \u001b[0;36mlog_and_raise_error\u001b[1;34m(error, debug, yaml_operation)\u001b[0m\n\u001b[0;32m    334\u001b[0m \u001b[39melse\u001b[39;00m:\n\u001b[0;32m    335\u001b[0m     \u001b[39mraise\u001b[39;00m error\n\u001b[1;32m--> 337\u001b[0m \u001b[39mraise\u001b[39;00m \u001b[39mException\u001b[39;00m(formatted_error)\n",
            "\u001b[1;31mException\u001b[0m: Value 'string' passed is not in set ['uri_file', 'uri_folder', 'custom_model', 'mlflow_model', 'mltable', 'triton_model']"
          ]
        }
      ],
      "source": [
        "@pipeline()\n",
        "def pipeline_translation(\n",
        "    text: str,\n",
        "    target_languages: str,\n",
        "    key: str,\n",
        "    endpoint: str,\n",
        "    region: str\n",
        ") -> Output(type=\"uri_file\"):\n",
        "    \"\"\"TextTanslationPipeline\"\"\"\n",
        "    \n",
        "    translation = translation_component(\n",
        "        text=text,\n",
        "        target_languages=target_languages,\n",
        "        key=key,\n",
        "        endpoint=endpoint,\n",
        "        region=region\n",
        "    )\n",
        "\n",
        "    return {\n",
        "        \"output\": translation.outputs.translated_text\n",
        "    }\n",
        "\n",
        "# Replace with actual values\n",
        "text_input = \"Hello World!\"\n",
        "target_languages_input = \"es,fr\"\n",
        "key_input = \"your-azure-key\"\n",
        "endpoint_input = \"https://api.cognitive.microsofttranslator.com/\"\n",
        "region_input = \"eastus\"\n",
        "\n",
        "pipeline_job = pipeline_translation(\n",
        "    text=text_input,\n",
        "    target_languages=target_languages_input,\n",
        "    key=key_input,\n",
        "    endpoint=endpoint_input,\n",
        "    region=region_input\n",
        ")\n",
        "\n",
        "pipeline_job.settings.default_compute = \"dereknguyen1\"\n",
        "\n",
        "# Assuming ml_client and experiment_name are already defined\n",
        "pipeline_job = ml_client.jobs.create_or_update(\n",
        "    pipeline_job, experiment_name=\"TextTranslationPipeline\"\n",
        ")\n",
        "\n",
        "print(pipeline_job)"
      ]
    },
    {
      "attachments": {},
      "cell_type": "markdown",
      "metadata": {},
      "source": [
        "# Next Steps\n",
        "You can see further examples of running a pipeline job [here](../)"
      ]
    }
  ],
  "metadata": {
    "description": {
      "description": "Register component and then use these components to build pipeline"
    },
    "kernel_info": {
      "name": "python310-sdkv2"
    },
    "kernelspec": {
      "display_name": "Python 3",
      "language": "python",
      "name": "python3"
    },
    "language_info": {
      "codemirror_mode": {
        "name": "ipython",
        "version": 3
      },
      "file_extension": ".py",
      "mimetype": "text/x-python",
      "name": "python",
      "nbconvert_exporter": "python",
      "pygments_lexer": "ipython3",
      "version": "3.10.11"
    },
    "microsoft": {
      "host": {
        "AzureML": {
          "notebookHasBeenCompleted": true
        }
      },
      "ms_spell_check": {
        "ms_spell_check_language": "en"
      }
    },
    "nteract": {
      "version": "nteract-front-end@1.0.0"
    }
  },
  "nbformat": 4,
  "nbformat_minor": 2
}
